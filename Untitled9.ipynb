{
 "cells": [
  {
   "cell_type": "code",
   "execution_count": 1,
   "id": "ca3b0835-78ff-4e9c-9f74-8caafd6889aa",
   "metadata": {},
   "outputs": [
    {
     "data": {
      "text/plain": [
       "'Q1. Which keyword is used to create a function? Create a function to return a list of odd numbers in the \\nrange of 1 to 25.'"
      ]
     },
     "execution_count": 1,
     "metadata": {},
     "output_type": "execute_result"
    }
   ],
   "source": [
    "'''Q1. Which keyword is used to create a function? Create a function to return a list of odd numbers in the \n",
    "range of 1 to 25.'''"
   ]
  },
  {
   "cell_type": "code",
   "execution_count": 2,
   "id": "6be89def-d2a6-41a5-b60f-9ac9fc441e13",
   "metadata": {},
   "outputs": [
    {
     "name": "stdout",
     "output_type": "stream",
     "text": [
      "ODD Number:  [1, 3, 5, 7, 9, 11, 13, 15, 17, 19, 21, 23]\n"
     ]
    }
   ],
   "source": [
    "# A def() function is generally use to create a function in python.For example- def python():.....\n",
    "\n",
    "# function to return a list of odd numbers.....\n",
    "def ODD_number(num):\n",
    "    ODD = []\n",
    "    for i in range(num):\n",
    "        if i % 2 == 1:\n",
    "            ODD.append(i)\n",
    "    return ODD\n",
    "\n",
    "num = 25\n",
    "\n",
    "print(\"ODD Number: \",ODD_number(num))"
   ]
  },
  {
   "cell_type": "code",
   "execution_count": 3,
   "id": "dda69865-8d63-44c9-a344-8c2c8b38f685",
   "metadata": {},
   "outputs": [
    {
     "data": {
      "text/plain": [
       "'Q2. Why *args and **kwargs is used in some functions? Create a function each for *args and **kwargs \\nto demonstrate their use.'"
      ]
     },
     "execution_count": 3,
     "metadata": {},
     "output_type": "execute_result"
    }
   ],
   "source": [
    "'''Q2. Why *args and **kwargs is used in some functions? Create a function each for *args and **kwargs \n",
    "to demonstrate their use.'''"
   ]
  },
  {
   "cell_type": "code",
   "execution_count": 6,
   "id": "5daa4e41-9a74-41cc-a220-f2fd145bd0dc",
   "metadata": {},
   "outputs": [
    {
     "name": "stdout",
     "output_type": "stream",
     "text": [
      "Hello\n",
      "Welcome\n",
      "to\n",
      "world\n",
      "of\n",
      "PW skills\n"
     ]
    }
   ],
   "source": [
    "# In python *args stands for (Non-Keyword Arguments),,and kwargs stands for **kwargs (Keyword Arguments)....\n",
    "'''The special syntax *args in function definitions in Python is used to pass a variable number of arguments to a function.\n",
    "It is used to pass a non-keyworded, variable-length argument list.''' \n",
    "# for example---\n",
    "def my_function(*args):\n",
    "    for arg in args:\n",
    "        print(arg)\n",
    " \n",
    "my_function('Hello', 'Welcome', 'to', \"world\", \"of\", \"PW skills\")"
   ]
  },
  {
   "cell_type": "code",
   "execution_count": 8,
   "id": "e9e12806-30ce-44f9-9c42-6a25a53bb468",
   "metadata": {},
   "outputs": [
    {
     "name": "stdout",
     "output_type": "stream",
     "text": [
      "first == Data science\n",
      "mid == with\n",
      "last == PW\n"
     ]
    }
   ],
   "source": [
    "'''The special syntax **kwargs in function definitions in Python is used to pass a keyworded, variable-length argument list.'''\n",
    "# for example---\n",
    "def my_function(**kwargs):\n",
    "    for key, value in kwargs.items():\n",
    "        print(\"%s == %s\" % (key, value))\n",
    " \n",
    "my_function(first='Data science', mid='with', last='PW')"
   ]
  },
  {
   "cell_type": "code",
   "execution_count": 9,
   "id": "24389b22-4c80-40ed-bf79-19f0d09042c8",
   "metadata": {},
   "outputs": [
    {
     "data": {
      "text/plain": [
       "'Q3. \\xa0What is an iterator in python? Name the method used to initialise the iterator object and the method \\nused for iteration. Use these methods to print the first five elements of the given list [2, 4, 6, 8, 10, 12, 14, \\n16, 18, 20].'"
      ]
     },
     "execution_count": 9,
     "metadata": {},
     "output_type": "execute_result"
    }
   ],
   "source": [
    "'''Q3.  What is an iterator in python? Name the method used to initialise the iterator object and the method \n",
    "used for iteration. Use these methods to print the first five elements of the given list [2, 4, 6, 8, 10, 12, 14, \n",
    "16, 18, 20].'''"
   ]
  },
  {
   "cell_type": "code",
   "execution_count": 10,
   "id": "fa188683-bc04-4003-b23c-8176cb6be42d",
   "metadata": {},
   "outputs": [
    {
     "name": "stdout",
     "output_type": "stream",
     "text": [
      "2\n",
      "4\n",
      "6\n",
      "8\n",
      "10\n"
     ]
    }
   ],
   "source": [
    "# An iterator in Python is an object that is used to iterate over iterable objects like lists, tuples, dicts, and sets.\n",
    "\n",
    "#1. __iter__(): The iter() method is called for the initialization of an iterator. This returns an iterator object\n",
    "#2. __next__(): The next method returns the next value for the iterable. When we use a for loop to traverse any iterable object,\n",
    "#internally it uses the iter() method to get an iterator object, which further uses the next() method to iterate over. \n",
    "\n",
    "# for example-- we have to iterate over the given list [2,4,6,8,10,12,14,16,18,20]\n",
    "\n",
    "list = [2,4,6,8,10,12,14,16,18,20]\n",
    "for i in range(5):\n",
    "    print(list[i])"
   ]
  },
  {
   "cell_type": "code",
   "execution_count": 11,
   "id": "5e4c72db-9b7c-4923-bc0c-47c5da426438",
   "metadata": {},
   "outputs": [
    {
     "data": {
      "text/plain": [
       "'Q4. \\xa0What is a generator function in python? Why yield keyword is used? Give an example of a generator \\nfunction.'"
      ]
     },
     "execution_count": 11,
     "metadata": {},
     "output_type": "execute_result"
    }
   ],
   "source": [
    "'''Q4.  What is a generator function in python? Why yield keyword is used? Give an example of a generator \n",
    "function.'''"
   ]
  },
  {
   "cell_type": "code",
   "execution_count": 12,
   "id": "2abb2cca-4eaf-4269-8e08-cd302f4363a7",
   "metadata": {},
   "outputs": [
    {
     "name": "stdout",
     "output_type": "stream",
     "text": [
      "1\n",
      "2\n",
      "3\n"
     ]
    }
   ],
   "source": [
    "# A generator-function is defined like a normal function, but whenever it needs to generate a value, it does so with the yield \n",
    "# keyword rather than return.\n",
    "\n",
    "'''The yield keyword in Python is similar to a return statement used for returning values in Python which returns a generator object\n",
    "to the one who calls the function which contains yield, instead of simply returning a value'''\n",
    "\n",
    "def GeneratorFun():\n",
    "    yield 1           \n",
    "    yield 2           \n",
    "    yield 3           \n",
    "\n",
    "for value in GeneratorFun():\n",
    "    print(value)"
   ]
  },
  {
   "cell_type": "code",
   "execution_count": 13,
   "id": "d8e7dc25-881e-44f4-9249-26a6782208cb",
   "metadata": {},
   "outputs": [
    {
     "data": {
      "text/plain": [
       "'Q5. Create a generator function for prime numbers less than 1000. Use the next() method to print the \\nfirst 20 prime numbers.'"
      ]
     },
     "execution_count": 13,
     "metadata": {},
     "output_type": "execute_result"
    }
   ],
   "source": [
    "'''Q5. Create a generator function for prime numbers less than 1000. Use the next() method to print the \n",
    "first 20 prime numbers.'''"
   ]
  },
  {
   "cell_type": "code",
   "execution_count": 15,
   "id": "3830fd77-f224-479c-b145-2ca782b47b3e",
   "metadata": {},
   "outputs": [
    {
     "name": "stdout",
     "output_type": "stream",
     "text": [
      "2\n",
      "3\n",
      "5\n",
      "7\n",
      "11\n",
      "13\n",
      "17\n",
      "19\n",
      "23\n",
      "29\n",
      "31\n",
      "37\n",
      "41\n",
      "43\n",
      "47\n",
      "53\n",
      "59\n",
      "61\n",
      "67\n",
      "71\n"
     ]
    }
   ],
   "source": [
    "#a generator function for prime numbers less than 1000. Use the next() method to print the first 20 prime numbers.\n",
    "def primes():\n",
    "    yield 2\n",
    "    prime_num = [2]\n",
    "    for i in range(3, 1000):\n",
    "        is_prime = True\n",
    "        for prime in prime_num:\n",
    "            if i % prime == 0:\n",
    "                is_prime = False\n",
    "                break\n",
    "        if is_prime:\n",
    "            prime_num.append(i)\n",
    "            yield i\n",
    "\n",
    "prime_gen = primes()\n",
    "# the next() method to print the first 20 prime numbers.\n",
    "for i in range(20):\n",
    "    print(next(prime_gen))"
   ]
  },
  {
   "cell_type": "code",
   "execution_count": 16,
   "id": "ca3cee64-1a65-46d3-be77-d42edecd66ff",
   "metadata": {},
   "outputs": [
    {
     "data": {
      "text/plain": [
       "'Q6. Write a python program to print the first 10 Fibonacci numbers using a while loop.'"
      ]
     },
     "execution_count": 16,
     "metadata": {},
     "output_type": "execute_result"
    }
   ],
   "source": [
    "'''Q6. Write a python program to print the first 10 Fibonacci numbers using a while loop.'''"
   ]
  },
  {
   "cell_type": "code",
   "execution_count": 18,
   "id": "72cee4a0-d9ae-4a3f-98bc-b89a0b385f96",
   "metadata": {},
   "outputs": [
    {
     "name": "stdout",
     "output_type": "stream",
     "text": [
      "0\n",
      "1\n",
      "1\n",
      "2\n",
      "3\n",
      "5\n",
      "8\n",
      "13\n",
      "21\n",
      "34\n"
     ]
    }
   ],
   "source": [
    "def fibo(n):\n",
    "    a, b = 0, 1\n",
    "    count = 0\n",
    "    while count < n:\n",
    "        print(a)\n",
    "        a, b = b, a + b\n",
    "        count += 1\n",
    "\n",
    "fibo(10)"
   ]
  },
  {
   "cell_type": "code",
   "execution_count": 19,
   "id": "ba6f7ef7-f311-40b0-8d02-f15a326e2a0f",
   "metadata": {},
   "outputs": [
    {
     "data": {
      "text/plain": [
       "\"Q7. Write a List Comprehension to iterate through the given string: ‘pwskills’.\\n\\nExpected output: ['p', 'w', 's', 'k', 'i', 'l', 'l', 's']\""
      ]
     },
     "execution_count": 19,
     "metadata": {},
     "output_type": "execute_result"
    }
   ],
   "source": [
    "'''Q7. Write a List Comprehension to iterate through the given string: ‘pwskills’.\n",
    "\n",
    "Expected output: ['p', 'w', 's', 'k', 'i', 'l', 'l', 's']'''"
   ]
  },
  {
   "cell_type": "code",
   "execution_count": 21,
   "id": "faeee7d8-7a5f-4467-acbc-ad73d99f2a0b",
   "metadata": {},
   "outputs": [
    {
     "name": "stdout",
     "output_type": "stream",
     "text": [
      "['p', 'w', 's', 'k', 'i', 'l', 'l', 's']\n"
     ]
    }
   ],
   "source": [
    "str1 = \"pwskills\"\n",
    "str2 = [char for char in str1]\n",
    "print(str2)"
   ]
  },
  {
   "cell_type": "code",
   "execution_count": 22,
   "id": "3cb2b98b-411e-4d98-b087-13a55da081e0",
   "metadata": {},
   "outputs": [
    {
     "data": {
      "text/plain": [
       "'Q8. Write a python program to check whether a given number is Palindrome or not using a while loop'"
      ]
     },
     "execution_count": 22,
     "metadata": {},
     "output_type": "execute_result"
    }
   ],
   "source": [
    "'''Q8. Write a python program to check whether a given number is Palindrome or not using a while loop'''"
   ]
  },
  {
   "cell_type": "code",
   "execution_count": 24,
   "id": "e89c745c-9f66-4c3a-9d60-cfd58cd85904",
   "metadata": {},
   "outputs": [
    {
     "name": "stdin",
     "output_type": "stream",
     "text": [
      "Enter a number: 25\n"
     ]
    },
    {
     "name": "stdout",
     "output_type": "stream",
     "text": [
      "Not a palindrome!\n"
     ]
    }
   ],
   "source": [
    "num=int(input(\"Enter a number:\"))\n",
    "temp=num\n",
    "rev=0\n",
    "while(num>0):\n",
    "    dig=num%10\n",
    "    rev=rev*10+dig\n",
    "    num=num//10\n",
    "if(temp==rev):\n",
    "    print(\"The number is palindrome!\")\n",
    "else:\n",
    "    print(\"Not a palindrome!\")"
   ]
  },
  {
   "cell_type": "code",
   "execution_count": 25,
   "id": "f7083344-273e-4a5e-a5fc-e4a8f5a85a46",
   "metadata": {},
   "outputs": [
    {
     "data": {
      "text/plain": [
       "'Q9. Write a code to print odd numbers from 1 to 100 using list comprehension'"
      ]
     },
     "execution_count": 25,
     "metadata": {},
     "output_type": "execute_result"
    }
   ],
   "source": [
    "'''Q9. Write a code to print odd numbers from 1 to 100 using list comprehension'''"
   ]
  },
  {
   "cell_type": "code",
   "execution_count": null,
   "id": "d3438e1c-a021-4b51-a730-706da85614ff",
   "metadata": {},
   "outputs": [],
   "source": []
  }
 ],
 "metadata": {
  "kernelspec": {
   "display_name": "Python 3 (ipykernel)",
   "language": "python",
   "name": "python3"
  },
  "language_info": {
   "codemirror_mode": {
    "name": "ipython",
    "version": 3
   },
   "file_extension": ".py",
   "mimetype": "text/x-python",
   "name": "python",
   "nbconvert_exporter": "python",
   "pygments_lexer": "ipython3",
   "version": "3.10.8"
  }
 },
 "nbformat": 4,
 "nbformat_minor": 5
}
